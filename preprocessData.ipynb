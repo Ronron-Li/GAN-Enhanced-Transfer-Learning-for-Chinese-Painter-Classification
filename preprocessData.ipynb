{
 "cells": [
  {
   "cell_type": "code",
   "execution_count": 15,
   "metadata": {},
   "outputs": [
    {
     "name": "stdout",
     "output_type": "stream",
     "text": [
      "🎨 Label mapping:\n",
      "Ai_Xuan_艾軒: 0\n",
      "Chang_Dai_Chien_張大千: 1\n",
      "Chu_Chu_儲楚: 2\n",
      "Giuseppe_Castiglione_郎世宁: 3\n",
      "Gu_Wenda_谷文达: 4\n",
      "He_Baili_何百里: 5\n",
      "He_Jilan_何紀嵐: 6\n",
      "Jin_Ting_Biao_金廷标: 7\n",
      "Li_Fang_Ying_李方膺: 8\n",
      "Li_Zijian_李自健: 9\n",
      "Ling_Jian_凌健: 10\n",
      "Liu_Kuo_Sung_刘国松: 11\n",
      "Liu_Yuan_Shou_劉元壽: 12\n",
      "Lu_Xin_Jian_陆新建: 13\n",
      "Luo_Jian_Wu_罗建武: 14\n",
      "Luo_Zhong_Li_羅中立: 15\n",
      "Qin_Feng_秦风: 16\n",
      "Qiu_Ying_仇英: 17\n",
      "Wai_Ming: 18\n",
      "Wang_Hui_王翚: 19\n",
      "Yao_Wen_Han_姚文瀚: 20\n",
      "Yu_Zhi_Ding_禹之鼎: 21\n",
      "Zhang_Xiao_Gang_张晓刚: 22\n",
      "Zhao_Kailin_赵开霖: 23\n",
      "Zou_Chuan_An_邹传安: 24\n",
      "CSV 文件已保存为 image_labels.csv\n"
     ]
    }
   ],
   "source": [
    "import os\n",
    "import pandas as pd\n",
    "from sklearn.preprocessing import LabelEncoder\n",
    "\n",
    "dataset_path = \"Dataset\"\n",
    "data = []\n",
    "\n",
    "for painter in os.listdir(dataset_path):\n",
    "    painter_folder = os.path.join(dataset_path, painter)\n",
    "\n",
    "    if not os.path.isdir(painter_folder) or painter.startswith('.'):\n",
    "        continue\n",
    "\n",
    "    for img_file in os.listdir(painter_folder):\n",
    "        if img_file.lower().endswith(('.jpg', '.jpeg', '.png')):\n",
    "            img_path = os.path.join(painter_folder, img_file)\n",
    "            data.append({'filepath': img_path, 'painter': painter})\n",
    "\n",
    "df = pd.DataFrame(data)\n",
    "\n",
    "le = LabelEncoder()\n",
    "df['label'] = le.fit_transform(df['painter'])\n",
    "\n",
    "label_map = dict(zip(le.classes_, le.transform(le.classes_)))\n",
    "print(\"🎨 Label mapping:\")\n",
    "for k, v in label_map.items():\n",
    "    print(f\"{k}: {v}\")\n",
    "\n",
    "df.to_csv(\"image_labels.csv\", index=False)\n",
    "print(\"CSV 文件已保存为 image_labels.csv\")"
   ]
  },
  {
   "cell_type": "code",
   "execution_count": 16,
   "metadata": {},
   "outputs": [
    {
     "name": "stdout",
     "output_type": "stream",
     "text": [
      "✅ Saved: image_tensors/Jin_Ting_Biao_08.pt\n",
      "✅ Saved: image_tensors/Lu_Xin_Jian_14.pt\n",
      "✅ Saved: image_tensors/Qin_Feng_17.pt\n",
      "✅ Saved: image_tensors/He_Jilan_02.pt\n",
      "所有图像已成功转换为张量并保存\n"
     ]
    }
   ],
   "source": [
    "import os\n",
    "import pandas as pd\n",
    "from PIL import Image\n",
    "import torch\n",
    "from torchvision import transforms\n",
    "\n",
    "IMAGE_SIZE = (224, 224)\n",
    "\n",
    "transform = transforms.Compose([\n",
    "    transforms.Resize(IMAGE_SIZE),\n",
    "    transforms.ToTensor(), \n",
    "    transforms.Normalize(mean=[0.485, 0.456, 0.406], \n",
    "                         std=[0.229, 0.224, 0.225])\n",
    "])\n",
    "\n",
    "df = pd.read_csv(\"image_labels.csv\")\n",
    "\n",
    "tensor_dir = \"image_tensors\"\n",
    "os.makedirs(tensor_dir, exist_ok=True)\n",
    "\n",
    "for idx, row in df.iterrows():\n",
    "    img_path = row['filepath']\n",
    "    painter = row['painter']\n",
    "    label = row['label']\n",
    "\n",
    "    try:\n",
    "        image = Image.open(img_path).convert(\"RGB\")\n",
    "        tensor = transform(image)  # [3, 224, 224]\n",
    "\n",
    "        img_name = os.path.splitext(os.path.basename(img_path))[0]\n",
    "        save_path = os.path.join(tensor_dir, f\"{img_name}.pt\")\n",
    "\n",
    "        torch.save({'tensor': tensor, 'label': label}, save_path)\n",
    "\n",
    "        if idx % 100 == 0:\n",
    "            print(f\"✅ Saved: {save_path}\")\n",
    "\n",
    "    except Exception as e:\n",
    "        print(f\"❌ Error loading {img_path}: {e}\")\n",
    "\n",
    "print(\"所有图像已成功转换为张量并保存\")"
   ]
  },
  {
   "cell_type": "code",
   "execution_count": 18,
   "metadata": {},
   "outputs": [
    {
     "name": "stdout",
     "output_type": "stream",
     "text": [
      "✅ Saved: image_tensors/Jin_Ting_Biao_08.pt\n",
      "✅ Saved: image_tensors/Lu_Xin_Jian_14.pt\n",
      "✅ Saved: image_tensors/Qin_Feng_17.pt\n",
      "✅ Saved: image_tensors/He_Jilan_02.pt\n",
      " 处理完成，共成功保存 396 张，失败 0 张。\n"
     ]
    }
   ],
   "source": [
    "success_count = 0\n",
    "fail_count = 0\n",
    "\n",
    "for idx, row in df.iterrows():\n",
    "    img_path = row['filepath']\n",
    "    painter = row['painter']\n",
    "    label = row['label']\n",
    "\n",
    "    try:\n",
    "        image = Image.open(img_path).convert(\"RGB\")\n",
    "        tensor = transform(image)\n",
    "\n",
    "        img_name = os.path.splitext(os.path.basename(img_path))[0]\n",
    "        save_path = os.path.join(tensor_dir, f\"{img_name}.pt\")\n",
    "\n",
    "        torch.save({'tensor': tensor, 'label': label}, save_path)\n",
    "        success_count += 1\n",
    "\n",
    "        if idx % 100 == 0:\n",
    "            print(f\"✅ Saved: {save_path}\")\n",
    "\n",
    "    except Exception as e:\n",
    "        print(f\"❌ Error loading {img_path}: {e}\")\n",
    "        fail_count += 1\n",
    "\n",
    "print(f\" 处理完成，共成功保存 {success_count} 张，失败 {fail_count} 张。\")"
   ]
  },
  {
   "cell_type": "code",
   "execution_count": 17,
   "metadata": {},
   "outputs": [
    {
     "name": "stdout",
     "output_type": "stream",
     "text": [
      "shape of tensor: torch.Size([3, 224, 224])\n",
      "number of label: 16\n"
     ]
    },
    {
     "name": "stderr",
     "output_type": "stream",
     "text": [
      "/var/folders/7s/nq14qz0x5fbgzmf2n7c9_w0r0000gn/T/ipykernel_17565/435760075.py:7: FutureWarning: You are using `torch.load` with `weights_only=False` (the current default value), which uses the default pickle module implicitly. It is possible to construct malicious pickle data which will execute arbitrary code during unpickling (See https://github.com/pytorch/pytorch/blob/main/SECURITY.md#untrusted-models for more details). In a future release, the default value for `weights_only` will be flipped to `True`. This limits the functions that could be executed during unpickling. Arbitrary objects will no longer be allowed to be loaded via this mode unless they are explicitly allowlisted by the user via `torch.serialization.add_safe_globals`. We recommend you start setting `weights_only=True` for any use case where you don't have full control of the loaded file. Please open an issue on GitHub for any issues related to this experimental feature.\n",
      "  data = torch.load(pt_path)\n"
     ]
    }
   ],
   "source": [
    "import torch\n",
    "import matplotlib.pyplot as plt\n",
    "import torchvision.transforms.functional as F\n",
    "\n",
    "pt_path = \"image_tensors/Qin_Feng_06.pt\"\n",
    "\n",
    "data = torch.load(pt_path)\n",
    "\n",
    "tensor = data['tensor'] \n",
    "label = data['label']       \n",
    "\n",
    "print(\"shape of tensor:\", tensor.shape)\n",
    "print(\"number of label:\", label)"
   ]
  }
 ],
 "metadata": {
  "kernelspec": {
   "display_name": "base",
   "language": "python",
   "name": "python3"
  },
  "language_info": {
   "codemirror_mode": {
    "name": "ipython",
    "version": 3
   },
   "file_extension": ".py",
   "mimetype": "text/x-python",
   "name": "python",
   "nbconvert_exporter": "python",
   "pygments_lexer": "ipython3",
   "version": "3.12.7"
  }
 },
 "nbformat": 4,
 "nbformat_minor": 2
}
